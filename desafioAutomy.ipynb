{
  "nbformat": 4,
  "nbformat_minor": 0,
  "metadata": {
    "colab": {
      "provenance": []
    },
    "kernelspec": {
      "name": "python3",
      "display_name": "Python 3"
    },
    "language_info": {
      "name": "python"
    }
  },
  "cells": [
    {
      "cell_type": "code",
      "execution_count": 37,
      "metadata": {
        "colab": {
          "base_uri": "https://localhost:8080/"
        },
        "id": "NjRTlATLZSAq",
        "outputId": "a9e43798-55fa-4d6f-c06d-36c38075ff10"
      },
      "outputs": [
        {
          "output_type": "stream",
          "name": "stdout",
          "text": [
            "           Nome Completo             Telefone              Mensagem Recebida  \\\n",
            "0           Alexia Viana     +55 31 5869-6342                            NaN   \n",
            "1  João Gabriel da Rocha     +55 51 6760 9107                            NaN   \n",
            "2     Ana Julia Oliveira        0300-025-2534      Não me respondeu ainda...   \n",
            "3     Dr. Otávio da Mata  +55 (081) 8357 7893  Olá, qual o valor do serviço?   \n",
            "4            Joana Viana         84 5570 8039               Tem vaga amanhã?   \n",
            "\n",
            "  Data do Último Contato  Status  \n",
            "0             02/05/2025     NaN  \n",
            "1             25/04/2025     NaN  \n",
            "2             24/04/2025     NaN  \n",
            "3             07/05/2025     NaN  \n",
            "4             29/04/2025     NaN  \n"
          ]
        }
      ],
      "source": [
        "import pandas as pd\n",
        "from datetime import datetime, timedelta\n",
        "\n",
        "caminho = \"/content/[PS][Desafio] Excel - Desafio Excel 1.csv\"\n",
        "\n",
        "df = pd.read_csv(caminho, sep=',')\n",
        "\n",
        "print(df.head())\n"
      ]
    },
    {
      "cell_type": "code",
      "source": [
        "#removendo o que nao é numero, 55 no início e telemarketing\n",
        "\n",
        "from os import remove\n",
        "df['Telefone'] = df['Telefone'].str.replace(r'\\D+', '', regex=True)\n",
        "df['Telefone'] = df['Telefone'].str.replace(r'^55', '', regex=True)\n",
        "df.loc[df['Telefone'].str.startswith(('0300', '0800', '0900', '0500')), 'Telefone'] = None\n",
        "print(df.head(10))\n",
        "\n",
        "\n",
        "\n"
      ],
      "metadata": {
        "colab": {
          "base_uri": "https://localhost:8080/"
        },
        "collapsed": true,
        "id": "zv1570DecPBN",
        "outputId": "1e92efda-1c42-4b5b-b6fe-f2b5b2b2297a"
      },
      "execution_count": 39,
      "outputs": [
        {
          "output_type": "stream",
          "name": "stdout",
          "text": [
            "           Nome Completo     Telefone              Mensagem Recebida  \\\n",
            "0           Alexia Viana   3158696342                            NaN   \n",
            "1  João Gabriel da Rocha   5167609107                            NaN   \n",
            "2     Ana Julia Oliveira         None      Não me respondeu ainda...   \n",
            "3     Dr. Otávio da Mata  08183577893  Olá, qual o valor do serviço?   \n",
            "4            Joana Viana   8455708039               Tem vaga amanhã?   \n",
            "5   Maria Vitória Fogaça  03148516533                            NaN   \n",
            "6       Davi Lucas Souza         None  Olá, qual o valor do serviço?   \n",
            "7   Ana Carolina da Mata  06104341898      Não me respondeu ainda...   \n",
            "8          Marcela Pinto  08495812347      Não me respondeu ainda...   \n",
            "9        Bárbara da Rosa  04120121243      Não me respondeu ainda...   \n",
            "\n",
            "  Data do Último Contato  Status  \n",
            "0             02/05/2025     NaN  \n",
            "1             25/04/2025     NaN  \n",
            "2             24/04/2025     NaN  \n",
            "3             07/05/2025     NaN  \n",
            "4             29/04/2025     NaN  \n",
            "5                    NaN     NaN  \n",
            "6             27/04/2025     NaN  \n",
            "7             07/05/2025     NaN  \n",
            "8             06/05/2025     NaN  \n",
            "9                    NaN     NaN  \n"
          ]
        }
      ]
    },
    {
      "cell_type": "code",
      "source": [
        "#padroniza os DDDs\n",
        "\n",
        "df['Telefone'] = df['Telefone'].str.replace(r'^0', '', regex=True)\n"
      ],
      "metadata": {
        "id": "kQ13usqkKl1x"
      },
      "execution_count": 40,
      "outputs": []
    },
    {
      "cell_type": "code",
      "source": [
        "#Aplicando o 9 na frente dos numeros que tem 10 digits (DDD + 8)\n",
        "\n",
        "df['Telefone'] = df[\"Telefone\"].apply(\n",
        "    lambda x: x[:2] + '9' + x[2:] if isinstance(x, str) and len(x) == 10 else x\n",
        ")"
      ],
      "metadata": {
        "id": "-HvVdFsDMU2x"
      },
      "execution_count": 41,
      "outputs": []
    },
    {
      "cell_type": "code",
      "source": [
        "#Acrescentando o +55 na frente dos números que tem 11 digits(DDD + 9)\n",
        "\n",
        "df['Telefone'] =df['Telefone'].apply(\n",
        "    lambda x: '+55' + x if isinstance(x, str) and len(x) == 11 else x\n",
        ")"
      ],
      "metadata": {
        "id": "THlIoiRjcU0T"
      },
      "execution_count": 42,
      "outputs": []
    },
    {
      "cell_type": "code",
      "source": [
        "#Conferindo se só existem valores formatados ou nulos\n",
        "\n",
        "print(df.loc[df['Telefone'].notna() & (df['Telefone'].str.len() != 14)])"
      ],
      "metadata": {
        "colab": {
          "base_uri": "https://localhost:8080/"
        },
        "collapsed": true,
        "id": "4F2mQapzQFYF",
        "outputId": "a651891f-fa46-4327-9305-8b5035f55177"
      },
      "execution_count": 43,
      "outputs": [
        {
          "output_type": "stream",
          "name": "stdout",
          "text": [
            "Empty DataFrame\n",
            "Columns: [Nome Completo, Telefone, Mensagem Recebida, Data do Último Contato, Status]\n",
            "Index: []\n"
          ]
        }
      ]
    },
    {
      "cell_type": "code",
      "source": [
        "#Telefone padronizado\n",
        "\n",
        "print(df.head(5))"
      ],
      "metadata": {
        "colab": {
          "base_uri": "https://localhost:8080/"
        },
        "collapsed": true,
        "id": "F_iaGEt_k6e0",
        "outputId": "baebb7c9-b44a-4627-8e8a-a39814cfce9f"
      },
      "execution_count": 44,
      "outputs": [
        {
          "output_type": "stream",
          "name": "stdout",
          "text": [
            "           Nome Completo        Telefone              Mensagem Recebida  \\\n",
            "0           Alexia Viana  +5531958696342                            NaN   \n",
            "1  João Gabriel da Rocha  +5551967609107                            NaN   \n",
            "2     Ana Julia Oliveira            None      Não me respondeu ainda...   \n",
            "3     Dr. Otávio da Mata  +5581983577893  Olá, qual o valor do serviço?   \n",
            "4            Joana Viana  +5584955708039               Tem vaga amanhã?   \n",
            "\n",
            "  Data do Último Contato  Status  \n",
            "0             02/05/2025     NaN  \n",
            "1             25/04/2025     NaN  \n",
            "2             24/04/2025     NaN  \n",
            "3             07/05/2025     NaN  \n",
            "4             29/04/2025     NaN  \n"
          ]
        }
      ]
    },
    {
      "cell_type": "code",
      "source": [
        "df.rename(columns={'Contato Padronizado' : 'Contato Ativo?'}, inplace =True)"
      ],
      "metadata": {
        "id": "fgogiCJdgb__"
      },
      "execution_count": 45,
      "outputs": []
    },
    {
      "cell_type": "code",
      "source": [
        "df['Data do Último Contato'] = pd.to_datetime(df['Data do Último Contato'], format='%d/%m/%Y')\n",
        "limite = pd.Timestamp.today() - pd.Timedelta(days=5)\n"
      ],
      "metadata": {
        "id": "aynemxOVS31b"
      },
      "execution_count": 49,
      "outputs": []
    },
    {
      "cell_type": "code",
      "source": [
        "#Filtro para contato ativo se nao for nulo e tiver menos de 5 dias\n",
        "\n",
        "df['Contato Ativo?'] = df.apply(\n",
        "    lambda row: 'Sim' if pd.notna(row['Mensagem Recebida']) and row['Data do Último Contato'] >= limite else 'Não',\n",
        "    axis = 1\n",
        ")"
      ],
      "metadata": {
        "id": "n31lz5FrUYir"
      },
      "execution_count": 52,
      "outputs": []
    },
    {
      "cell_type": "code",
      "source": [
        "print(df.head())"
      ],
      "metadata": {
        "colab": {
          "base_uri": "https://localhost:8080/"
        },
        "collapsed": true,
        "id": "qvUQfzO2cSbR",
        "outputId": "5121696e-5ff8-488a-b7b3-0fce78d714d0"
      },
      "execution_count": 53,
      "outputs": [
        {
          "output_type": "stream",
          "name": "stdout",
          "text": [
            "           Nome Completo        Telefone              Mensagem Recebida  \\\n",
            "0           Alexia Viana  +5531958696342                            NaN   \n",
            "1  João Gabriel da Rocha  +5551967609107                            NaN   \n",
            "2     Ana Julia Oliveira            None      Não me respondeu ainda...   \n",
            "3     Dr. Otávio da Mata  +5581983577893  Olá, qual o valor do serviço?   \n",
            "4            Joana Viana  +5584955708039               Tem vaga amanhã?   \n",
            "\n",
            "  Data do Último Contato  Status Contato Ativo?  \n",
            "0             2025-05-02     NaN            Não  \n",
            "1             2025-04-25     NaN            Não  \n",
            "2             2025-04-24     NaN            Não  \n",
            "3             2025-05-07     NaN            Sim  \n",
            "4             2025-04-29     NaN            Não  \n"
          ]
        }
      ]
    },
    {
      "cell_type": "code",
      "source": [
        "limite_inativo = pd.Timestamp.today() - pd.Timedelta(days=9)"
      ],
      "metadata": {
        "id": "HPm-DFnlepsd"
      },
      "execution_count": 67,
      "outputs": []
    },
    {
      "cell_type": "code",
      "source": [
        "def classificar_status(row):\n",
        "  if pd.isna(row['Mensagem Recebida']):\n",
        "    return 'Não respondeu'\n",
        "  elif 'agendar' in row['Mensagem Recebida'].lower():\n",
        "    return 'Interessado'\n",
        "  elif row['Data do Último Contato'] <limite_inativo:\n",
        "    return 'Inativo'\n",
        "  else:\n",
        "    return 'Aguardando'"
      ],
      "metadata": {
        "id": "kfsFnKfbgIXN"
      },
      "execution_count": 70,
      "outputs": []
    },
    {
      "cell_type": "code",
      "source": [
        "df['Status'] = df.apply(classificar_status, axis=1)"
      ],
      "metadata": {
        "id": "OJzgmuQXhG0y"
      },
      "execution_count": 71,
      "outputs": []
    },
    {
      "cell_type": "code",
      "source": [
        "print(df[['Mensagem Recebida','Data do Último Contato', 'Status', 'Contato Ativo?']])"
      ],
      "metadata": {
        "colab": {
          "base_uri": "https://localhost:8080/"
        },
        "collapsed": true,
        "id": "5riSPS03iAOs",
        "outputId": "f77cba16-b697-421e-cc99-60ec75c61972"
      },
      "execution_count": 72,
      "outputs": [
        {
          "output_type": "stream",
          "name": "stdout",
          "text": [
            "                Mensagem Recebida Data do Último Contato         Status  \\\n",
            "0                             NaN             2025-05-02  Não respondeu   \n",
            "1                             NaN             2025-04-25  Não respondeu   \n",
            "2       Não me respondeu ainda...             2025-04-24        Inativo   \n",
            "3   Olá, qual o valor do serviço?             2025-05-07     Aguardando   \n",
            "4                Tem vaga amanhã?             2025-04-29        Inativo   \n",
            "..                            ...                    ...            ...   \n",
            "95                            NaN             2025-05-07  Não respondeu   \n",
            "96                 Quero agendar!             2025-04-24    Interessado   \n",
            "97                 Quero agendar!             2025-04-25    Interessado   \n",
            "98      Não me respondeu ainda...             2025-05-07     Aguardando   \n",
            "99                 Quero agendar!             2025-05-01    Interessado   \n",
            "\n",
            "   Contato Ativo?  \n",
            "0             Não  \n",
            "1             Não  \n",
            "2             Não  \n",
            "3             Sim  \n",
            "4             Não  \n",
            "..            ...  \n",
            "95            Não  \n",
            "96            Não  \n",
            "97            Não  \n",
            "98            Sim  \n",
            "99            Não  \n",
            "\n",
            "[100 rows x 4 columns]\n"
          ]
        }
      ]
    },
    {
      "cell_type": "code",
      "source": [
        "from google.colab import files\n",
        "df.to_csv('dfFormatado.csv', index=False)\n",
        "files.download('dfFormatado.csv')"
      ],
      "metadata": {
        "colab": {
          "base_uri": "https://localhost:8080/",
          "height": 17
        },
        "id": "ecRdMsxni5X1",
        "outputId": "0bec6352-61e1-4940-c67e-92bfccb9b9a7"
      },
      "execution_count": 74,
      "outputs": [
        {
          "output_type": "display_data",
          "data": {
            "text/plain": [
              "<IPython.core.display.Javascript object>"
            ],
            "application/javascript": [
              "\n",
              "    async function download(id, filename, size) {\n",
              "      if (!google.colab.kernel.accessAllowed) {\n",
              "        return;\n",
              "      }\n",
              "      const div = document.createElement('div');\n",
              "      const label = document.createElement('label');\n",
              "      label.textContent = `Downloading \"${filename}\": `;\n",
              "      div.appendChild(label);\n",
              "      const progress = document.createElement('progress');\n",
              "      progress.max = size;\n",
              "      div.appendChild(progress);\n",
              "      document.body.appendChild(div);\n",
              "\n",
              "      const buffers = [];\n",
              "      let downloaded = 0;\n",
              "\n",
              "      const channel = await google.colab.kernel.comms.open(id);\n",
              "      // Send a message to notify the kernel that we're ready.\n",
              "      channel.send({})\n",
              "\n",
              "      for await (const message of channel.messages) {\n",
              "        // Send a message to notify the kernel that we're ready.\n",
              "        channel.send({})\n",
              "        if (message.buffers) {\n",
              "          for (const buffer of message.buffers) {\n",
              "            buffers.push(buffer);\n",
              "            downloaded += buffer.byteLength;\n",
              "            progress.value = downloaded;\n",
              "          }\n",
              "        }\n",
              "      }\n",
              "      const blob = new Blob(buffers, {type: 'application/binary'});\n",
              "      const a = document.createElement('a');\n",
              "      a.href = window.URL.createObjectURL(blob);\n",
              "      a.download = filename;\n",
              "      div.appendChild(a);\n",
              "      a.click();\n",
              "      div.remove();\n",
              "    }\n",
              "  "
            ]
          },
          "metadata": {}
        },
        {
          "output_type": "display_data",
          "data": {
            "text/plain": [
              "<IPython.core.display.Javascript object>"
            ],
            "application/javascript": [
              "download(\"download_d7e8760b-2eb7-45ff-9577-37f127b2545e\", \"dfFormatado.csv\", 7575)"
            ]
          },
          "metadata": {}
        }
      ]
    },
    {
      "cell_type": "code",
      "source": [
        "df.loc[df['Data do Último Contato'] < limite, ['Data do Último Contato','Mensagem Recebida', 'Status']]"
      ],
      "metadata": {
        "colab": {
          "base_uri": "https://localhost:8080/",
          "height": 423
        },
        "id": "DpQ1H86ljtM0",
        "outputId": "2aa871b1-9c11-4c3c-f2da-ac3a2f0ab4a2"
      },
      "execution_count": 82,
      "outputs": [
        {
          "output_type": "execute_result",
          "data": {
            "text/plain": [
              "   Data do Último Contato              Mensagem Recebida         Status\n",
              "0              2025-05-02                            NaN  Não respondeu\n",
              "1              2025-04-25                            NaN  Não respondeu\n",
              "2              2025-04-24      Não me respondeu ainda...        Inativo\n",
              "4              2025-04-29               Tem vaga amanhã?        Inativo\n",
              "6              2025-04-27  Olá, qual o valor do serviço?        Inativo\n",
              "..                    ...                            ...            ...\n",
              "92             2025-04-27                            NaN  Não respondeu\n",
              "93             2025-05-04      Não me respondeu ainda...     Aguardando\n",
              "96             2025-04-24                 Quero agendar!    Interessado\n",
              "97             2025-04-25                 Quero agendar!    Interessado\n",
              "99             2025-05-01                 Quero agendar!    Interessado\n",
              "\n",
              "[79 rows x 3 columns]"
            ],
            "text/html": [
              "\n",
              "  <div id=\"df-7b73bdc0-5fcd-4672-a5be-f2e2c45913ae\" class=\"colab-df-container\">\n",
              "    <div>\n",
              "<style scoped>\n",
              "    .dataframe tbody tr th:only-of-type {\n",
              "        vertical-align: middle;\n",
              "    }\n",
              "\n",
              "    .dataframe tbody tr th {\n",
              "        vertical-align: top;\n",
              "    }\n",
              "\n",
              "    .dataframe thead th {\n",
              "        text-align: right;\n",
              "    }\n",
              "</style>\n",
              "<table border=\"1\" class=\"dataframe\">\n",
              "  <thead>\n",
              "    <tr style=\"text-align: right;\">\n",
              "      <th></th>\n",
              "      <th>Data do Último Contato</th>\n",
              "      <th>Mensagem Recebida</th>\n",
              "      <th>Status</th>\n",
              "    </tr>\n",
              "  </thead>\n",
              "  <tbody>\n",
              "    <tr>\n",
              "      <th>0</th>\n",
              "      <td>2025-05-02</td>\n",
              "      <td>NaN</td>\n",
              "      <td>Não respondeu</td>\n",
              "    </tr>\n",
              "    <tr>\n",
              "      <th>1</th>\n",
              "      <td>2025-04-25</td>\n",
              "      <td>NaN</td>\n",
              "      <td>Não respondeu</td>\n",
              "    </tr>\n",
              "    <tr>\n",
              "      <th>2</th>\n",
              "      <td>2025-04-24</td>\n",
              "      <td>Não me respondeu ainda...</td>\n",
              "      <td>Inativo</td>\n",
              "    </tr>\n",
              "    <tr>\n",
              "      <th>4</th>\n",
              "      <td>2025-04-29</td>\n",
              "      <td>Tem vaga amanhã?</td>\n",
              "      <td>Inativo</td>\n",
              "    </tr>\n",
              "    <tr>\n",
              "      <th>6</th>\n",
              "      <td>2025-04-27</td>\n",
              "      <td>Olá, qual o valor do serviço?</td>\n",
              "      <td>Inativo</td>\n",
              "    </tr>\n",
              "    <tr>\n",
              "      <th>...</th>\n",
              "      <td>...</td>\n",
              "      <td>...</td>\n",
              "      <td>...</td>\n",
              "    </tr>\n",
              "    <tr>\n",
              "      <th>92</th>\n",
              "      <td>2025-04-27</td>\n",
              "      <td>NaN</td>\n",
              "      <td>Não respondeu</td>\n",
              "    </tr>\n",
              "    <tr>\n",
              "      <th>93</th>\n",
              "      <td>2025-05-04</td>\n",
              "      <td>Não me respondeu ainda...</td>\n",
              "      <td>Aguardando</td>\n",
              "    </tr>\n",
              "    <tr>\n",
              "      <th>96</th>\n",
              "      <td>2025-04-24</td>\n",
              "      <td>Quero agendar!</td>\n",
              "      <td>Interessado</td>\n",
              "    </tr>\n",
              "    <tr>\n",
              "      <th>97</th>\n",
              "      <td>2025-04-25</td>\n",
              "      <td>Quero agendar!</td>\n",
              "      <td>Interessado</td>\n",
              "    </tr>\n",
              "    <tr>\n",
              "      <th>99</th>\n",
              "      <td>2025-05-01</td>\n",
              "      <td>Quero agendar!</td>\n",
              "      <td>Interessado</td>\n",
              "    </tr>\n",
              "  </tbody>\n",
              "</table>\n",
              "<p>79 rows × 3 columns</p>\n",
              "</div>\n",
              "    <div class=\"colab-df-buttons\">\n",
              "\n",
              "  <div class=\"colab-df-container\">\n",
              "    <button class=\"colab-df-convert\" onclick=\"convertToInteractive('df-7b73bdc0-5fcd-4672-a5be-f2e2c45913ae')\"\n",
              "            title=\"Convert this dataframe to an interactive table.\"\n",
              "            style=\"display:none;\">\n",
              "\n",
              "  <svg xmlns=\"http://www.w3.org/2000/svg\" height=\"24px\" viewBox=\"0 -960 960 960\">\n",
              "    <path d=\"M120-120v-720h720v720H120Zm60-500h600v-160H180v160Zm220 220h160v-160H400v160Zm0 220h160v-160H400v160ZM180-400h160v-160H180v160Zm440 0h160v-160H620v160ZM180-180h160v-160H180v160Zm440 0h160v-160H620v160Z\"/>\n",
              "  </svg>\n",
              "    </button>\n",
              "\n",
              "  <style>\n",
              "    .colab-df-container {\n",
              "      display:flex;\n",
              "      gap: 12px;\n",
              "    }\n",
              "\n",
              "    .colab-df-convert {\n",
              "      background-color: #E8F0FE;\n",
              "      border: none;\n",
              "      border-radius: 50%;\n",
              "      cursor: pointer;\n",
              "      display: none;\n",
              "      fill: #1967D2;\n",
              "      height: 32px;\n",
              "      padding: 0 0 0 0;\n",
              "      width: 32px;\n",
              "    }\n",
              "\n",
              "    .colab-df-convert:hover {\n",
              "      background-color: #E2EBFA;\n",
              "      box-shadow: 0px 1px 2px rgba(60, 64, 67, 0.3), 0px 1px 3px 1px rgba(60, 64, 67, 0.15);\n",
              "      fill: #174EA6;\n",
              "    }\n",
              "\n",
              "    .colab-df-buttons div {\n",
              "      margin-bottom: 4px;\n",
              "    }\n",
              "\n",
              "    [theme=dark] .colab-df-convert {\n",
              "      background-color: #3B4455;\n",
              "      fill: #D2E3FC;\n",
              "    }\n",
              "\n",
              "    [theme=dark] .colab-df-convert:hover {\n",
              "      background-color: #434B5C;\n",
              "      box-shadow: 0px 1px 3px 1px rgba(0, 0, 0, 0.15);\n",
              "      filter: drop-shadow(0px 1px 2px rgba(0, 0, 0, 0.3));\n",
              "      fill: #FFFFFF;\n",
              "    }\n",
              "  </style>\n",
              "\n",
              "    <script>\n",
              "      const buttonEl =\n",
              "        document.querySelector('#df-7b73bdc0-5fcd-4672-a5be-f2e2c45913ae button.colab-df-convert');\n",
              "      buttonEl.style.display =\n",
              "        google.colab.kernel.accessAllowed ? 'block' : 'none';\n",
              "\n",
              "      async function convertToInteractive(key) {\n",
              "        const element = document.querySelector('#df-7b73bdc0-5fcd-4672-a5be-f2e2c45913ae');\n",
              "        const dataTable =\n",
              "          await google.colab.kernel.invokeFunction('convertToInteractive',\n",
              "                                                    [key], {});\n",
              "        if (!dataTable) return;\n",
              "\n",
              "        const docLinkHtml = 'Like what you see? Visit the ' +\n",
              "          '<a target=\"_blank\" href=https://colab.research.google.com/notebooks/data_table.ipynb>data table notebook</a>'\n",
              "          + ' to learn more about interactive tables.';\n",
              "        element.innerHTML = '';\n",
              "        dataTable['output_type'] = 'display_data';\n",
              "        await google.colab.output.renderOutput(dataTable, element);\n",
              "        const docLink = document.createElement('div');\n",
              "        docLink.innerHTML = docLinkHtml;\n",
              "        element.appendChild(docLink);\n",
              "      }\n",
              "    </script>\n",
              "  </div>\n",
              "\n",
              "\n",
              "    <div id=\"df-707a3855-bc96-438c-9b63-6b0764fc4fa1\">\n",
              "      <button class=\"colab-df-quickchart\" onclick=\"quickchart('df-707a3855-bc96-438c-9b63-6b0764fc4fa1')\"\n",
              "                title=\"Suggest charts\"\n",
              "                style=\"display:none;\">\n",
              "\n",
              "<svg xmlns=\"http://www.w3.org/2000/svg\" height=\"24px\"viewBox=\"0 0 24 24\"\n",
              "     width=\"24px\">\n",
              "    <g>\n",
              "        <path d=\"M19 3H5c-1.1 0-2 .9-2 2v14c0 1.1.9 2 2 2h14c1.1 0 2-.9 2-2V5c0-1.1-.9-2-2-2zM9 17H7v-7h2v7zm4 0h-2V7h2v10zm4 0h-2v-4h2v4z\"/>\n",
              "    </g>\n",
              "</svg>\n",
              "      </button>\n",
              "\n",
              "<style>\n",
              "  .colab-df-quickchart {\n",
              "      --bg-color: #E8F0FE;\n",
              "      --fill-color: #1967D2;\n",
              "      --hover-bg-color: #E2EBFA;\n",
              "      --hover-fill-color: #174EA6;\n",
              "      --disabled-fill-color: #AAA;\n",
              "      --disabled-bg-color: #DDD;\n",
              "  }\n",
              "\n",
              "  [theme=dark] .colab-df-quickchart {\n",
              "      --bg-color: #3B4455;\n",
              "      --fill-color: #D2E3FC;\n",
              "      --hover-bg-color: #434B5C;\n",
              "      --hover-fill-color: #FFFFFF;\n",
              "      --disabled-bg-color: #3B4455;\n",
              "      --disabled-fill-color: #666;\n",
              "  }\n",
              "\n",
              "  .colab-df-quickchart {\n",
              "    background-color: var(--bg-color);\n",
              "    border: none;\n",
              "    border-radius: 50%;\n",
              "    cursor: pointer;\n",
              "    display: none;\n",
              "    fill: var(--fill-color);\n",
              "    height: 32px;\n",
              "    padding: 0;\n",
              "    width: 32px;\n",
              "  }\n",
              "\n",
              "  .colab-df-quickchart:hover {\n",
              "    background-color: var(--hover-bg-color);\n",
              "    box-shadow: 0 1px 2px rgba(60, 64, 67, 0.3), 0 1px 3px 1px rgba(60, 64, 67, 0.15);\n",
              "    fill: var(--button-hover-fill-color);\n",
              "  }\n",
              "\n",
              "  .colab-df-quickchart-complete:disabled,\n",
              "  .colab-df-quickchart-complete:disabled:hover {\n",
              "    background-color: var(--disabled-bg-color);\n",
              "    fill: var(--disabled-fill-color);\n",
              "    box-shadow: none;\n",
              "  }\n",
              "\n",
              "  .colab-df-spinner {\n",
              "    border: 2px solid var(--fill-color);\n",
              "    border-color: transparent;\n",
              "    border-bottom-color: var(--fill-color);\n",
              "    animation:\n",
              "      spin 1s steps(1) infinite;\n",
              "  }\n",
              "\n",
              "  @keyframes spin {\n",
              "    0% {\n",
              "      border-color: transparent;\n",
              "      border-bottom-color: var(--fill-color);\n",
              "      border-left-color: var(--fill-color);\n",
              "    }\n",
              "    20% {\n",
              "      border-color: transparent;\n",
              "      border-left-color: var(--fill-color);\n",
              "      border-top-color: var(--fill-color);\n",
              "    }\n",
              "    30% {\n",
              "      border-color: transparent;\n",
              "      border-left-color: var(--fill-color);\n",
              "      border-top-color: var(--fill-color);\n",
              "      border-right-color: var(--fill-color);\n",
              "    }\n",
              "    40% {\n",
              "      border-color: transparent;\n",
              "      border-right-color: var(--fill-color);\n",
              "      border-top-color: var(--fill-color);\n",
              "    }\n",
              "    60% {\n",
              "      border-color: transparent;\n",
              "      border-right-color: var(--fill-color);\n",
              "    }\n",
              "    80% {\n",
              "      border-color: transparent;\n",
              "      border-right-color: var(--fill-color);\n",
              "      border-bottom-color: var(--fill-color);\n",
              "    }\n",
              "    90% {\n",
              "      border-color: transparent;\n",
              "      border-bottom-color: var(--fill-color);\n",
              "    }\n",
              "  }\n",
              "</style>\n",
              "\n",
              "      <script>\n",
              "        async function quickchart(key) {\n",
              "          const quickchartButtonEl =\n",
              "            document.querySelector('#' + key + ' button');\n",
              "          quickchartButtonEl.disabled = true;  // To prevent multiple clicks.\n",
              "          quickchartButtonEl.classList.add('colab-df-spinner');\n",
              "          try {\n",
              "            const charts = await google.colab.kernel.invokeFunction(\n",
              "                'suggestCharts', [key], {});\n",
              "          } catch (error) {\n",
              "            console.error('Error during call to suggestCharts:', error);\n",
              "          }\n",
              "          quickchartButtonEl.classList.remove('colab-df-spinner');\n",
              "          quickchartButtonEl.classList.add('colab-df-quickchart-complete');\n",
              "        }\n",
              "        (() => {\n",
              "          let quickchartButtonEl =\n",
              "            document.querySelector('#df-707a3855-bc96-438c-9b63-6b0764fc4fa1 button');\n",
              "          quickchartButtonEl.style.display =\n",
              "            google.colab.kernel.accessAllowed ? 'block' : 'none';\n",
              "        })();\n",
              "      </script>\n",
              "    </div>\n",
              "\n",
              "    </div>\n",
              "  </div>\n"
            ],
            "application/vnd.google.colaboratory.intrinsic+json": {
              "type": "dataframe",
              "summary": "{\n  \"name\": \"df\",\n  \"rows\": 79,\n  \"fields\": [\n    {\n      \"column\": \"Data do \\u00daltimo Contato\",\n      \"properties\": {\n        \"dtype\": \"date\",\n        \"min\": \"2025-04-23 00:00:00\",\n        \"max\": \"2025-05-05 00:00:00\",\n        \"num_unique_values\": 13,\n        \"samples\": [\n          \"2025-04-23 00:00:00\",\n          \"2025-05-05 00:00:00\",\n          \"2025-05-02 00:00:00\"\n        ],\n        \"semantic_type\": \"\",\n        \"description\": \"\"\n      }\n    },\n    {\n      \"column\": \"Mensagem Recebida\",\n      \"properties\": {\n        \"dtype\": \"category\",\n        \"num_unique_values\": 5,\n        \"samples\": [\n          \"Tem vaga amanh\\u00e3?\",\n          \"Gostaria de saber mais sobre o atendimento.\",\n          \"Ol\\u00e1, qual o valor do servi\\u00e7o?\"\n        ],\n        \"semantic_type\": \"\",\n        \"description\": \"\"\n      }\n    },\n    {\n      \"column\": \"Status\",\n      \"properties\": {\n        \"dtype\": \"category\",\n        \"num_unique_values\": 4,\n        \"samples\": [\n          \"Inativo\",\n          \"Aguardando\",\n          \"N\\u00e3o respondeu\"\n        ],\n        \"semantic_type\": \"\",\n        \"description\": \"\"\n      }\n    }\n  ]\n}"
            }
          },
          "metadata": {},
          "execution_count": 82
        }
      ]
    }
  ]
}